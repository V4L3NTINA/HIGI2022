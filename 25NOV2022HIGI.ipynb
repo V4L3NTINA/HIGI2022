{
  "nbformat": 4,
  "nbformat_minor": 0,
  "metadata": {
    "colab": {
      "provenance": [],
      "authorship_tag": "ABX9TyNop+QdvgNRAEGQwwUdvlXx",
      "include_colab_link": true
    },
    "kernelspec": {
      "name": "python3",
      "display_name": "Python 3"
    },
    "language_info": {
      "name": "python"
    }
  },
  "cells": [
    {
      "cell_type": "markdown",
      "metadata": {
        "id": "view-in-github",
        "colab_type": "text"
      },
      "source": [
        "<a href=\"https://colab.research.google.com/github/V4L3NTINA/HIGI2022/blob/main/25NOV2022HIGI.ipynb\" target=\"_parent\"><img src=\"https://colab.research.google.com/assets/colab-badge.svg\" alt=\"Open In Colab\"/></a>"
      ]
    },
    {
      "cell_type": "code",
      "execution_count": 3,
      "metadata": {
        "colab": {
          "base_uri": "https://localhost:8080/",
          "height": 339
        },
        "id": "P0Uahx_6du-r",
        "outputId": "4c6ca09b-21e3-4169-994d-09cefc71ac43"
      },
      "outputs": [
        {
          "output_type": "error",
          "ename": "ModuleNotFoundError",
          "evalue": "ignored",
          "traceback": [
            "\u001b[0;31m---------------------------------------------------------------------------\u001b[0m",
            "\u001b[0;31mModuleNotFoundError\u001b[0m                       Traceback (most recent call last)",
            "\u001b[0;32m<ipython-input-3-fd0884948d43>\u001b[0m in \u001b[0;36m<module>\u001b[0;34m\u001b[0m\n\u001b[1;32m      3\u001b[0m \u001b[0;32mimport\u001b[0m \u001b[0mmatplotlib\u001b[0m\u001b[0;34m.\u001b[0m\u001b[0mpyplot\u001b[0m \u001b[0;32mas\u001b[0m \u001b[0mplt\u001b[0m\u001b[0;34m\u001b[0m\u001b[0;34m\u001b[0m\u001b[0m\n\u001b[1;32m      4\u001b[0m \u001b[0;32mimport\u001b[0m \u001b[0mmath\u001b[0m \u001b[0;32mas\u001b[0m \u001b[0mmath\u001b[0m\u001b[0;34m\u001b[0m\u001b[0;34m\u001b[0m\u001b[0m\n\u001b[0;32m----> 5\u001b[0;31m \u001b[0;32mimport\u001b[0m \u001b[0msymp\u001b[0m\u001b[0;34m\u001b[0m\u001b[0;34m\u001b[0m\u001b[0m\n\u001b[0m",
            "\u001b[0;31mModuleNotFoundError\u001b[0m: No module named 'symp'",
            "",
            "\u001b[0;31m---------------------------------------------------------------------------\u001b[0;32m\nNOTE: If your import is failing due to a missing package, you can\nmanually install dependencies using either !pip or !apt.\n\nTo view examples of installing some common dependencies, click the\n\"Open Examples\" button below.\n\u001b[0;31m---------------------------------------------------------------------------\u001b[0m\n"
          ],
          "errorDetails": {
            "actions": [
              {
                "action": "open_url",
                "actionText": "Open Examples",
                "url": "/notebooks/snippets/importing_libraries.ipynb"
              }
            ]
          }
        }
      ],
      "source": [
        "import os\n",
        "import numpy as np\n",
        "import matplotlib.pyplot as plt\n",
        "import math as math\n",
        "import symp"
      ]
    },
    {
      "cell_type": "code",
      "source": [
        "def solar(x0, y0, z0, vx0, vy0, vz0, t0=0, dt=0.01 ,nsteps=100):\n",
        "    G = 4*(np.pi**2)\n",
        "    M = 1\n",
        "    rp = np.sqrt( x0*2 + y02 + z0*2 ) \n",
        "    x = [x0] \n",
        "    y = [y0]\n",
        "    z = [z0]\n",
        "    t = [t0]\n",
        "    for i in range(1, nsteps):\n",
        "        Vxi = vx0 - ( (G*M) / rp**3 )*x0 *dt \n",
        "        xi = x0 + Vxi*dt\n",
        "        Vyi = vy0 - ( (G*M) / rp**3 )*y0 *dt \n",
        "        yi = y0 + Vyi*dt\n",
        "        Vzi = vz0 - ( (G*M) / rp**3 )*z0 *dt \n",
        "        zi = z0 + Vzi*dt\n",
        "        x.append(xi)\n",
        "        y.append(yi)\n",
        "        z.append(zi)\n",
        "        t.append(t0+dt*i)\n",
        "        x0 = xi\n",
        "        vx0 = Vxi \n",
        "        y0= yi\n",
        "        vy0 = Vyi\n",
        "        z0 = zi\n",
        "        vz0 = Vzi\n",
        "        \n",
        "    return x, y, z, t"
      ],
      "metadata": {
        "id": "rEUW873odw_W"
      },
      "execution_count": null,
      "outputs": []
    },
    {
      "cell_type": "code",
      "source": [
        "x,y,z,t=solar(0.0508011, 0.022318, -0.4011642, -0.2195576,0.00485553,0.00027924,nsteps=100)\n",
        "plt.plot(t,x)"
      ],
      "metadata": {
        "colab": {
          "base_uri": "https://localhost:8080/",
          "height": 183
        },
        "id": "iunl2cLsd3-0",
        "outputId": "ff1ac0f9-be19-46a1-e18b-9098d3feae47"
      },
      "execution_count": 2,
      "outputs": [
        {
          "output_type": "error",
          "ename": "NameError",
          "evalue": "ignored",
          "traceback": [
            "\u001b[0;31m---------------------------------------------------------------------------\u001b[0m",
            "\u001b[0;31mNameError\u001b[0m                                 Traceback (most recent call last)",
            "\u001b[0;32m<ipython-input-2-2d259d93a7a9>\u001b[0m in \u001b[0;36m<module>\u001b[0;34m\u001b[0m\n\u001b[0;32m----> 1\u001b[0;31m \u001b[0mx\u001b[0m\u001b[0;34m,\u001b[0m\u001b[0my\u001b[0m\u001b[0;34m,\u001b[0m\u001b[0mz\u001b[0m\u001b[0;34m,\u001b[0m\u001b[0mt\u001b[0m\u001b[0;34m=\u001b[0m\u001b[0msolar\u001b[0m\u001b[0;34m(\u001b[0m\u001b[0;36m0.0508011\u001b[0m\u001b[0;34m,\u001b[0m \u001b[0;36m0.022318\u001b[0m\u001b[0;34m,\u001b[0m \u001b[0;34m-\u001b[0m\u001b[0;36m0.4011642\u001b[0m\u001b[0;34m,\u001b[0m \u001b[0;34m-\u001b[0m\u001b[0;36m0.2195576\u001b[0m\u001b[0;34m,\u001b[0m\u001b[0;36m0.00485553\u001b[0m\u001b[0;34m,\u001b[0m\u001b[0;36m0.00027924\u001b[0m\u001b[0;34m,\u001b[0m\u001b[0mnsteps\u001b[0m\u001b[0;34m=\u001b[0m\u001b[0;36m100\u001b[0m\u001b[0;34m)\u001b[0m\u001b[0;34m\u001b[0m\u001b[0;34m\u001b[0m\u001b[0m\n\u001b[0m\u001b[1;32m      2\u001b[0m \u001b[0mplt\u001b[0m\u001b[0;34m.\u001b[0m\u001b[0mplot\u001b[0m\u001b[0;34m(\u001b[0m\u001b[0mt\u001b[0m\u001b[0;34m,\u001b[0m\u001b[0mx\u001b[0m\u001b[0;34m)\u001b[0m\u001b[0;34m\u001b[0m\u001b[0;34m\u001b[0m\u001b[0m\n",
            "\u001b[0;31mNameError\u001b[0m: name 'solar' is not defined"
          ]
        }
      ]
    }
  ]
}