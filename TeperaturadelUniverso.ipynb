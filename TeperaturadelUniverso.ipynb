{
  "nbformat": 4,
  "nbformat_minor": 0,
  "metadata": {
    "colab": {
      "provenance": [],
      "authorship_tag": "ABX9TyOzR6xg5onzJEfX3wkUZwDQ",
      "include_colab_link": true
    },
    "kernelspec": {
      "name": "python3",
      "display_name": "Python 3"
    },
    "language_info": {
      "name": "python"
    }
  },
  "cells": [
    {
      "cell_type": "markdown",
      "metadata": {
        "id": "view-in-github",
        "colab_type": "text"
      },
      "source": [
        "<a href=\"https://colab.research.google.com/github/V4L3NTINA/HIGI2022/blob/main/TeperaturadelUniverso.ipynb\" target=\"_parent\"><img src=\"https://colab.research.google.com/assets/colab-badge.svg\" alt=\"Open In Colab\"/></a>"
      ]
    },
    {
      "cell_type": "code",
      "source": [
        "import numpy as np\n",
        "import math as matplotlib.plt as plt\n",
        "import constants as cons #Hay que descargar scipy.constants "
      ],
      "metadata": {
        "id": "SuR8OmDuytfu"
      },
      "execution_count": null,
      "outputs": []
    },
    {
      "cell_type": "code",
      "execution_count": null,
      "metadata": {
        "id": "igPfWCmayWT9"
      },
      "outputs": [],
      "source": [
        "def Intesity(nu, T):\n",
        "\th = \n",
        "\tc =\n",
        "\tk =\n",
        "\tnu=nu*c*100\n",
        "\tfact = h*nu/(k*T)\n",
        "\t \n",
        "\tI = ((h*nu*3)/c2)(1/(np.exp(fact)-1))\n",
        "\n",
        "\t#h cm \n",
        "\t#v 1/cm\n",
        "\treturn I\n",
        "\n",
        "def SI_to_Jansky(value_Jy):\n",
        "#1 Jy es x10-\n",
        "\treturn value_SI/1e-26/1e6\n",
        "\t\n",
        "data =np.loadtxt(\"IRCF.txt\").T\n",
        "nu=data[0]\n",
        "I=data[1]\n",
        "Ierr=data[3]\n",
        "\n",
        "Intesity= SI_to_MJansky(Intensity(nu,5))\n",
        "plt.plot(nu, Intensity(nu,5))\n",
        "plt.show()\n",
        "plt.errorbar(nu,I, Ierr)"
      ]
    }
  ]
}